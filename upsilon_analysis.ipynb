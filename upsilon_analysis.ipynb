{
 "cells": [
  {
   "cell_type": "markdown",
   "metadata": {},
   "source": [
    "# Roofit and Roostats Bayesian calculator of upper limits"
   ]
  },
  {
   "cell_type": "code",
   "execution_count": 1,
   "metadata": {},
   "outputs": [
    {
     "name": "stdout",
     "output_type": "stream",
     "text": [
      "Welcome to JupyROOT 6.22/03\n"
     ]
    }
   ],
   "source": [
    "import ROOT\n",
    "%jsroot on"
   ]
  },
  {
   "cell_type": "code",
   "execution_count": 2,
   "metadata": {},
   "outputs": [
    {
     "name": "stdout",
     "output_type": "stream",
     "text": [
      "\n",
      "\u001b[1mRooFit v3.60 -- Developed by Wouter Verkerke and David Kirkby\u001b[0m \n",
      "                Copyright (C) 2000-2013 NIKHEF, University of California & Stanford University\n",
      "                All rights reserved, please read http://roofit.sourceforge.net/license.txt\n",
      "\n"
     ]
    }
   ],
   "source": [
    "infile = ROOT.TFile.Open(\"massupi.root\")\n",
    "tree = infile.Get(\"T\")\n",
    "\n",
    "mass = ROOT.RooRealVar(\"mass\",\"m_{#Upsilon}(GeV)\",8.5,9.86)\n",
    "mean = ROOT.RooRealVar(\"mean\",\"m_{#Upsilon}(GeV)\",9.4,9.2,9.6) \n",
    "sigma = ROOT.RooRealVar(\"sigma\",\"#sigma_{#Upsilon}(GeV)\",0.1,0.01,0.5)"
   ]
  },
  {
   "cell_type": "code",
   "execution_count": 3,
   "metadata": {},
   "outputs": [],
   "source": [
    "sig = ROOT.RooGaussian(\"sig\",\"signal component\",mass,mean,sigma)"
   ]
  },
  {
   "cell_type": "code",
   "execution_count": 4,
   "metadata": {},
   "outputs": [],
   "source": [
    "a0 = ROOT.RooRealVar(\"a0\",\"a0\",0.1,-1,1)\n",
    "a1 = ROOT.RooRealVar(\"a1\",\"a1\",0.7,-1,1) "
   ]
  },
  {
   "cell_type": "code",
   "execution_count": 5,
   "metadata": {},
   "outputs": [],
   "source": [
    "bkg = ROOT.RooChebychev(\"bkg\",\"Background\",mass,ROOT.RooArgList(a0,a1))\n",
    "sigfrac = ROOT.RooRealVar(\"sigfrac\",\"fraction of signal component\",0.5,0.,1.)"
   ]
  },
  {
   "cell_type": "code",
   "execution_count": 6,
   "metadata": {},
   "outputs": [],
   "source": [
    "b = ROOT.RooRealVar(\"b\", \"N_{bg}\",0,19000)\n",
    "s = ROOT.RooRealVar(\"s\", \"N_{sig}\",0,15000)"
   ]
  },
  {
   "cell_type": "code",
   "execution_count": 7,
   "metadata": {},
   "outputs": [],
   "source": [
    "model = ROOT.RooAddPdf(\"model\", \"model\",ROOT.RooArgList(sig,bkg),ROOT.RooArgList(s,b))\n",
    "ds = ROOT.RooDataSet(\"ds\",\"ds\",tree, ROOT.RooArgSet(mass))"
   ]
  },
  {
   "cell_type": "code",
   "execution_count": 8,
   "metadata": {},
   "outputs": [
    {
     "name": "stdout",
     "output_type": "stream",
     "text": [
      "[#1] INFO:Minization -- p.d.f. provides expected number of events, including extended term in likelihood.\n",
      "[#1] INFO:Minization -- RooMinimizer::optimizeConst: activating const optimization\n",
      "[#1] INFO:Minization --  The following expressions will be evaluated in cache-and-track mode: (sig,bkg)\n",
      "[#1] INFO:Minization -- RooMinimizer::optimizeConst: deactivating const optimization\n"
     ]
    }
   ],
   "source": [
    "fitresult = model.fitTo(ds,ROOT.RooFit.Save(),ROOT.RooFit.PrintLevel(-1));\n"
   ]
  },
  {
   "cell_type": "code",
   "execution_count": 9,
   "metadata": {},
   "outputs": [
    {
     "data": {
      "text/html": [
       "\n",
       "<div id=\"root_plot_1611078419159\"\n",
       "     style=\"width: 696px; height: 472px\">\n",
       "</div>\n",
       "<script src=\"/static/components/requirejs/require.js\" type=\"text/javascript\" charset=\"utf-8\"></script>\n",
       "<script>\n",
       " requirejs.config({\n",
       "     paths: {\n",
       "       'JSRootCore' : '/static/scripts/JSRootCore',\n",
       "     }\n",
       "   });\n",
       " require(['JSRootCore'],\n",
       "     function(Core) {\n",
       "       var obj = Core.JSONR_unref({\"_typename\":\"TCanvas\",\"fUniqueID\":0,\"fBits\":3342344,\"fLineColor\":1,\"fLineStyle\":1,\"fLineWidth\":1,\"fFillColor\":0,\"fFillStyle\":1001,\"fLeftMargin\":0.1,\"fRightMargin\":0.1,\"fBottomMargin\":0.1,\"fTopMargin\":0.1,\"fXfile\":2,\"fYfile\":2,\"fAfile\":1,\"fXstat\":0.99,\"fYstat\":0.99,\"fAstat\":2,\"fFrameFillColor\":0,\"fFrameLineColor\":1,\"fFrameFillStyle\":1001,\"fFrameLineStyle\":1,\"fFrameLineWidth\":1,\"fFrameBorderSize\":1,\"fFrameBorderMode\":0,\"fX1\":8.32999998733401,\"fY1\":-142.26490246924,\"fX2\":10.030000012666,\"fY2\":1280.38403742667,\"fXtoAbsPixelk\":-3410.39989399548,\"fXtoPixelk\":-3410.39989399548,\"fXtoPixel\":409.411758605172,\"fYtoAbsPixelk\":424.800047186661,\"fYtoPixelk\":424.800047186661,\"fYtoPixel\":-0.331775455464461,\"fUtoAbsPixelk\":5e-5,\"fUtoPixelk\":5e-5,\"fUtoPixel\":696,\"fVtoAbsPixelk\":472.00005,\"fVtoPixelk\":472,\"fVtoPixel\":-472,\"fAbsPixeltoXk\":8.32999998733401,\"fPixeltoXk\":8.32999998733401,\"fPixeltoX\":0.0024425287720287,\"fAbsPixeltoYk\":1280.38403742667,\"fPixeltoYk\":-142.26490246924,\"fPixeltoY\":-3.01408673706762,\"fXlowNDC\":0,\"fYlowNDC\":0,\"fXUpNDC\":1,\"fYUpNDC\":1,\"fWNDC\":1,\"fHNDC\":1,\"fAbsXlowNDC\":0,\"fAbsYlowNDC\":0,\"fAbsWNDC\":1,\"fAbsHNDC\":1,\"fUxmin\":8.5,\"fUymin\":0,\"fUxmax\":9.86,\"fUymax\":1138.11913495743,\"fTheta\":30,\"fPhi\":30,\"fAspectRatio\":0,\"fNumber\":0,\"fTickx\":0,\"fTicky\":0,\"fLogx\":0,\"fLogy\":0,\"fLogz\":0,\"fPadPaint\":0,\"fCrosshair\":0,\"fCrosshairPos\":0,\"fBorderSize\":2,\"fBorderMode\":0,\"fModified\":false,\"fGridx\":false,\"fGridy\":false,\"fAbsCoord\":false,\"fEditable\":true,\"fFixedAspectRatio\":false,\"fPrimitives\":{\"_typename\":\"TList\",\"name\":\"TList\",\"arr\":[{\"_typename\":\"TFrame\",\"fUniqueID\":0,\"fBits\":8,\"fLineColor\":1,\"fLineStyle\":1,\"fLineWidth\":1,\"fFillColor\":0,\"fFillStyle\":1001,\"fX1\":8.5,\"fY1\":0,\"fX2\":9.86,\"fY2\":1138.11913495743,\"fBorderSize\":1,\"fBorderMode\":0},{\"_typename\":\"TH1D\",\"fUniqueID\":0,\"fBits\":520,\"fName\":\"frame_9798140\",\"fTitle\":\"A RooPlot of \\\"m_{#Upsilon}(GeV)\\\"\",\"fLineColor\":602,\"fLineStyle\":1,\"fLineWidth\":1,\"fFillColor\":0,\"fFillStyle\":1001,\"fMarkerColor\":1,\"fMarkerStyle\":1,\"fMarkerSize\":1,\"fNcells\":102,\"fXaxis\":{\"_typename\":\"TAxis\",\"fUniqueID\":0,\"fBits\":0,\"fName\":\"xaxis\",\"fTitle\":\"m_{#Upsilon}(GeV)\",\"fNdivisions\":510,\"fAxisColor\":1,\"fLabelColor\":1,\"fLabelFont\":42,\"fLabelOffset\":0.005,\"fLabelSize\":0.035,\"fTickLength\":0.03,\"fTitleOffset\":1,\"fTitleSize\":0.035,\"fTitleColor\":1,\"fTitleFont\":42,\"fNbins\":100,\"fXmin\":8.5,\"fXmax\":9.86,\"fXbins\":[],\"fFirst\":0,\"fLast\":0,\"fBits2\":0,\"fTimeDisplay\":false,\"fTimeFormat\":\"\",\"fLabels\":null,\"fModLabs\":null},\"fYaxis\":{\"_typename\":\"TAxis\",\"fUniqueID\":0,\"fBits\":0,\"fName\":\"yaxis\",\"fTitle\":\"Events \\/ ( 0.0136 )\",\"fNdivisions\":510,\"fAxisColor\":1,\"fLabelColor\":1,\"fLabelFont\":42,\"fLabelOffset\":0.005,\"fLabelSize\":0.035,\"fTickLength\":0.03,\"fTitleOffset\":0,\"fTitleSize\":0.035,\"fTitleColor\":1,\"fTitleFont\":42,\"fNbins\":1,\"fXmin\":0,\"fXmax\":1,\"fXbins\":[],\"fFirst\":0,\"fLast\":0,\"fBits2\":0,\"fTimeDisplay\":false,\"fTimeFormat\":\"\",\"fLabels\":null,\"fModLabs\":null},\"fZaxis\":{\"_typename\":\"TAxis\",\"fUniqueID\":0,\"fBits\":0,\"fName\":\"zaxis\",\"fTitle\":\"\",\"fNdivisions\":510,\"fAxisColor\":1,\"fLabelColor\":1,\"fLabelFont\":42,\"fLabelOffset\":0.005,\"fLabelSize\":0.035,\"fTickLength\":0.03,\"fTitleOffset\":1,\"fTitleSize\":0.035,\"fTitleColor\":1,\"fTitleFont\":42,\"fNbins\":1,\"fXmin\":0,\"fXmax\":1,\"fXbins\":[],\"fFirst\":0,\"fLast\":0,\"fBits2\":0,\"fTimeDisplay\":false,\"fTimeFormat\":\"\",\"fLabels\":null,\"fModLabs\":null},\"fBarOffset\":0,\"fBarWidth\":1000,\"fEntries\":1,\"fTsumw\":0,\"fTsumw2\":0,\"fTsumwx\":0,\"fTsumwx2\":0,\"fMaximum\":1138.11913495743,\"fMinimum\":-1111,\"fNormFactor\":0,\"fContour\":[],\"fSumw2\":[],\"fOption\":\"\",\"fFunctions\":{\"_typename\":\"TList\",\"name\":\"TList\",\"arr\":[],\"opt\":[]},\"fBufferSize\":0,\"fBuffer\":[],\"fBinStatErrOpt\":0,\"fStatOverflows\":2,\"fArray\":[0,1138.11913495743,0,0,0,0,0,0,0,0,0,0,0,0,0,0,0,0,0,0,0,0,0,0,0,0,0,0,0,0,0,0,0,0,0,0,0,0,0,0,0,0,0,0,0,0,0,0,0,0,0,0,0,0,0,0,0,0,0,0,0,0,0,0,0,0,0,0,0,0,0,0,0,0,0,0,0,0,0,0,0,0,0,0,0,0,0,0,0,0,0,0,0,0,0,0,0,0,0,0,0,0]},{\"_typename\":\"RooHist\",\"fUniqueID\":0,\"fBits\":1032,\"fName\":\"h_ds\",\"fTitle\":\"Histogram of ds_plot__mass\",\"fLineColor\":1,\"fLineStyle\":1,\"fLineWidth\":1,\"fFillColor\":0,\"fFillStyle\":1000,\"fMarkerColor\":1,\"fMarkerStyle\":8,\"fMarkerSize\":1,\"fNpoints\":100,\"fX\":[8.5068,8.5204,8.534,8.5476,8.5612,8.5748,8.5884,8.602,8.6156,8.6292,8.6428,8.6564,8.67,8.6836,8.6972,8.7108,8.7244,8.738,8.7516,8.7652,8.7788,8.7924,8.806,8.8196,8.8332,8.8468,8.8604,8.874,8.8876,8.9012,8.9148,8.9284,8.942,8.9556,8.9692,8.9828,8.9964,9.01,9.0236,9.0372,9.0508,9.0644,9.078,9.0916,9.1052,9.1188,9.1324,9.146,9.1596,9.1732,9.1868,9.2004,9.214,9.2276,9.2412,9.2548,9.2684,9.282,9.2956,9.3092,9.3228,9.3364,9.35,9.3636,9.3772,9.3908,9.4044,9.418,9.4316,9.4452,9.4588,9.4724,9.486,9.4996,9.5132,9.5268,9.5404,9.554,9.5676,9.5812,9.5948,9.6084,9.622,9.6356,9.6492,9.6628,9.6764,9.69,9.7036,9.7172,9.7308,9.7444,9.758,9.7716,9.7852,9.7988,9.8124,9.826,9.8396,9.8532],\"fY\":[167,133,125,164,119,130,139,164,148,136,131,106,132,158,151,158,112,173,119,156,157,159,162,141,126,168,177,143,121,157,160,158,157,142,128,155,188,140,169,141,149,151,137,155,146,165,173,178,172,205,205,240,227,228,293,311,271,328,375,393,497,524,582,687,694,767,889,1019,1019,970,1051,994,941,814,750,603,592,551,437,420,347,352,324,301,263,262,221,197,213,225,195,205,194,219,203,212,213,258,219,263],\"fFunctions\":{\"_typename\":\"TList\",\"name\":\"TList\",\"arr\":[],\"opt\":[]},\"fHistogram\":{\"_typename\":\"TH1F\",\"fUniqueID\":0,\"fBits\":520,\"fName\":\"h_ds\",\"fTitle\":\"Histogram of ds_plot__mass\",\"fLineColor\":602,\"fLineStyle\":1,\"fLineWidth\":1,\"fFillColor\":0,\"fFillStyle\":1001,\"fMarkerColor\":1,\"fMarkerStyle\":1,\"fMarkerSize\":1,\"fNcells\":102,\"fXaxis\":{\"_typename\":\"TAxis\",\"fUniqueID\":0,\"fBits\":0,\"fName\":\"xaxis\",\"fTitle\":\"\",\"fNdivisions\":510,\"fAxisColor\":1,\"fLabelColor\":1,\"fLabelFont\":42,\"fLabelOffset\":0.005,\"fLabelSize\":0.035,\"fTickLength\":0.03,\"fTitleOffset\":1,\"fTitleSize\":0.035,\"fTitleColor\":1,\"fTitleFont\":42,\"fNbins\":100,\"fXmin\":8.364,\"fXmax\":9.996,\"fXbins\":[],\"fFirst\":0,\"fLast\":0,\"fBits2\":0,\"fTimeDisplay\":false,\"fTimeFormat\":\"\",\"fLabels\":null,\"fModLabs\":null},\"fYaxis\":{\"_typename\":\"TAxis\",\"fUniqueID\":0,\"fBits\":0,\"fName\":\"yaxis\",\"fTitle\":\"\",\"fNdivisions\":510,\"fAxisColor\":1,\"fLabelColor\":1,\"fLabelFont\":42,\"fLabelOffset\":0.005,\"fLabelSize\":0.035,\"fTickLength\":0.03,\"fTitleOffset\":0,\"fTitleSize\":0.035,\"fTitleColor\":1,\"fTitleFont\":42,\"fNbins\":1,\"fXmin\":86.5730123423603,\"fXmax\":1182.69606064753,\"fXbins\":[],\"fFirst\":0,\"fLast\":0,\"fBits2\":0,\"fTimeDisplay\":false,\"fTimeFormat\":\"\",\"fLabels\":null,\"fModLabs\":null},\"fZaxis\":{\"_typename\":\"TAxis\",\"fUniqueID\":0,\"fBits\":0,\"fName\":\"zaxis\",\"fTitle\":\"\",\"fNdivisions\":510,\"fAxisColor\":1,\"fLabelColor\":1,\"fLabelFont\":42,\"fLabelOffset\":0.005,\"fLabelSize\":0.035,\"fTickLength\":0.03,\"fTitleOffset\":1,\"fTitleSize\":0.035,\"fTitleColor\":1,\"fTitleFont\":42,\"fNbins\":1,\"fXmin\":0,\"fXmax\":1,\"fXbins\":[],\"fFirst\":0,\"fLast\":0,\"fBits2\":0,\"fTimeDisplay\":false,\"fTimeFormat\":\"\",\"fLabels\":null,\"fModLabs\":null},\"fBarOffset\":0,\"fBarWidth\":1000,\"fEntries\":0,\"fTsumw\":0,\"fTsumw2\":0,\"fTsumwx\":0,\"fTsumwx2\":0,\"fMaximum\":1182.69606064753,\"fMinimum\":86.5730123423603,\"fNormFactor\":0,\"fContour\":[],\"fSumw2\":[],\"fOption\":\"\",\"fFunctions\":{\"_typename\":\"TList\",\"name\":\"TList\",\"arr\":[],\"opt\":[]},\"fBufferSize\":0,\"fBuffer\":[],\"fBinStatErrOpt\":0,\"fStatOverflows\":2,\"fArray\":[0,0,0,0,0,0,0,0,0,0,0,0,0,0,0,0,0,0,0,0,0,0,0,0,0,0,0,0,0,0,0,0,0,0,0,0,0,0,0,0,0,0,0,0,0,0,0,0,0,0,0,0,0,0,0,0,0,0,0,0,0,0,0,0,0,0,0,0,0,0,0,0,0,0,0,0,0,0,0,0,0,0,0,0,0,0,0,0,0,0,0,0,0,0,0,0,0,0,0,0,0,0]},\"fMinimum\":-1111,\"fMaximum\":-1111,\"fEXlow\":[0.0068,0.0068,0.0068,0.0068,0.0068,0.0068,0.0068,0.0068,0.0068,0.0068,0.0068,0.0068,0.0068,0.0068,0.0068,0.0068,0.0068,0.0068,0.0068,0.0068,0.0068,0.0068,0.0068,0.0068,0.0068,0.0068,0.0068,0.0068,0.0068,0.0068,0.0068,0.0068,0.0068,0.0068,0.0068,0.0068,0.0068,0.0068,0.0068,0.0068,0.0068,0.0068,0.0068,0.0068,0.0068,0.0068,0.0068,0.0068,0.0068,0.0068,0.0068,0.0068,0.0068,0.0068,0.0068,0.0068,0.0068,0.0068,0.0068,0.0068,0.0068,0.0068,0.0068,0.0068,0.0068,0.0068,0.0068,0.0068,0.0068,0.0068,0.0068,0.0068,0.0068,0.0068,0.0068,0.0068,0.0068,0.0068,0.0068,0.0068,0.0068,0.0068,0.0068,0.0068,0.0068,0.0068,0.0068,0.0068,0.0068,0.0068,0.0068,0.0068,0.0068,0.0068,0.0068,0.0068,0.0068,0.0068,0.0068,0.0068],\"fEXhigh\":[0.0068,0.0068,0.0068,0.0068,0.0068,0.0068,0.0068,0.0068,0.0068,0.0068,0.0068,0.0068,0.0068,0.0068,0.0068,0.0068,0.0068,0.0068,0.0068,0.0068,0.0068,0.0068,0.0068,0.0068,0.0068,0.0068,0.0068,0.0068,0.0068,0.0068,0.0068,0.0068,0.0068,0.0068,0.0068,0.0068,0.0068,0.0068,0.0068,0.0068,0.0068,0.0068,0.0068,0.0068,0.0068,0.0068,0.0068,0.0068,0.0068,0.0068,0.0068,0.0068,0.0068,0.0068,0.0068,0.0068,0.0068,0.0068,0.0068,0.0068,0.0068,0.0068,0.0068,0.0068,0.0068,0.0068,0.0068,0.0068,0.0068,0.0068,0.0068,0.0068,0.0068,0.0068,0.0068,0.0068,0.0068,0.0068,0.0068,0.0068,0.0068,0.0068,0.0068,0.0068,0.0068,0.0068,0.0068,0.0068,0.0068,0.0068,0.0068,0.0068,0.0068,0.0068,0.0068,0.0068,0.0068,0.0068,0.0068,0.0068],\"fEYlow\":[12.4325171563776,11.0433963806152,10.6915146427997,12.3160056179763,10.4201648339208,10.9127122105133,11.3004237212059,12.3160056179763,11.6757956618859,11.1726175299288,10.9564392373896,9.80776406404415,11,12.0797456254091,11.7983738762488,12.0797456254091,10.0948100502086,12.6624465810882,10.4201648339208,12,12.0399362039844,12.119429464124,12.237739202857,11.3848643240047,10.7361025271221,12.4711217710729,12.8135269556944,11.4687092035858,10.5113577727726,12.0399362039844,12.1589889011722,12.0797456254091,12.0399362039844,11.4268604418766,10.8247516529061,11.9599357943771,13.2204227340122,11.342719282327,12.5096118312577,11.3848643240047,11.7167917228706,11.7983738762488,11.21537451386,11.9599357943771,11.5933866224478,12.3549601321824,12.6624465810882,12.8510299228187,12.6244047484067,13.8265487818944,13.8265487818944,15,14.5748134316813,14.6079449297381,16.6245437895437,17.1422787643774,15.9696690920006,17.6176709319934,18.8713706278105,19.3305320150519,21.7991031209777,22.3965062837106,23.6298570240273,25.7154534578367,25.8486242525108,27.1992779689291,29.3202951024969,31.4256949806892,31.4256949806892,30.648836254345,31.922985673747,31.0317300508551,30.1797979132849,28.0350661467605,26.8906918496047,24.0611481816303,23.8361870472759,22.9787137637478,20.4105236663265,20,18.1346451535842,18.2683243791234,17.5069431053691,16.8565549577098,15.7249807395879,15.6941347407017,14.3744747806435,13.5445719051881,14.1030818665102,14.5083310198036,13.4731886124821,13.8265487818944,13.4373598647664,14.3070928949608,13.7565774293832,14.0688022843335,14.1030818665102,15.5701586799882,14.3070928949608,15.7249807395879],\"fEYhigh\":[13.4325171563776,12.0433963806152,11.6915146427997,13.3160056179763,11.4201648339208,11.9127122105133,12.300423721206,13.3160056179763,12.6757956618859,12.1726175299287,11.9564392373896,10.8077640640442,12,13.0797456254091,12.7983738762488,13.0797456254091,11.0948100502086,13.6624465810882,11.4201648339208,13,13.0399362039844,13.119429464124,13.237739202857,12.3848643240047,11.7361025271221,13.4711217710729,13.8135269556944,12.4687092035858,11.5113577727726,13.0399362039844,13.1589889011722,13.0797456254091,13.0399362039844,12.4268604418766,11.8247516529061,12.9599357943771,14.2204227340122,12.342719282327,13.5096118312577,12.3848643240047,12.7167917228706,12.7983738762488,12.21537451386,12.9599357943771,12.5933866224478,13.3549601321824,13.6624465810882,13.8510299228187,13.6244047484067,14.8265487818944,14.8265487818944,16,15.5748134316813,15.6079449297381,17.6245437895437,18.1422787643774,16.9696690920006,18.6176709319934,19.8713706278105,20.3305320150519,22.7991031209777,23.3965062837107,24.6298570240273,26.7154534578367,26.8486242525108,28.1992779689291,30.3202951024969,32.4256949806891,32.4256949806891,31.648836254345,32.922985673747,32.0317300508552,31.1797979132849,29.0350661467605,27.8906918496047,25.0611481816303,24.8361870472759,23.9787137637478,21.4105236663265,21,19.1346451535842,19.2683243791234,18.5069431053691,17.8565549577098,16.724980739588,16.6941347407017,15.3744747806435,14.5445719051881,15.1030818665102,15.5083310198036,14.4731886124821,14.8265487818944,14.4373598647664,15.3070928949608,14.7565774293832,15.0688022843335,15.1030818665102,16.5701586799882,15.3070928949608,16.724980739588],\"_yAxisLabel\":\"Events \\/ ( 0.0136 )\",\"_ymin\":0,\"_ymax\":1083.92298567375,\"_normValue\":0,\"_nominalBinWidth\":0.0136,\"_nSigma\":1,\"_entries\":30059,\"_rawEntries\":-1},{\"_typename\":\"RooCurve\",\"fUniqueID\":0,\"fBits\":525320,\"fName\":\"model_Norm[mass]\",\"fTitle\":\"Projection of model\",\"fLineColor\":600,\"fLineStyle\":1,\"fLineWidth\":3,\"fFillColor\":0,\"fFillStyle\":1000,\"fMarkerColor\":1,\"fMarkerStyle\":1,\"fMarkerSize\":1,\"fNpoints\":125,\"fX\":[8.4863864,8.4864,8.5,8.5136,8.5272,8.5408,8.5544,8.568,8.5816,8.5952,8.6088,8.6224,8.636,8.6496,8.6632,8.6768,8.6904,8.704,8.7176,8.7312,8.7448,8.7584,8.772,8.7856,8.7992,8.8128,8.8264,8.84,8.8536,8.8672,8.8808,8.8944,8.908,8.9216,8.9352,8.9488,8.9624,8.976,8.9896,9.0032,9.0168,9.0304,9.044,9.0576,9.0712,9.0848,9.0984,9.112,9.1256,9.1392,9.1528,9.1664,9.18,9.1936,9.2072,9.2208,9.2344,9.248,9.2548,9.2616,9.2684,9.2752,9.282,9.2888,9.2956,9.3024,9.3092,9.316,9.3296,9.3432,9.3568,9.3704,9.384,9.3908,9.3976,9.4044,9.4112,9.418,9.4248,9.4316,9.4384,9.4452,9.452,9.4588,9.4656,9.4724,9.4792,9.486,9.4928,9.4996,9.5064,9.52,9.5336,9.5472,9.5608,9.5676,9.5744,9.5812,9.588,9.5948,9.6016,9.6084,9.6152,9.622,9.6288,9.6424,9.656,9.6696,9.6832,9.6968,9.7104,9.724,9.7376,9.7512,9.7648,9.7784,9.792,9.8056,9.8192,9.8328,9.8464,9.86,9.86,9.8736,9.8736136],\"fY\":[0,135.755333305174,135.755333305174,136.266155895524,136.784995040433,137.3118507399,137.846722993926,138.389611802511,138.940517165654,139.499439083356,140.066377555617,140.641332582437,141.224304163815,141.815292299752,142.414296990248,143.021318235303,143.636356034916,144.259410389088,144.890481297819,145.529568761112,146.176672778969,146.831793351409,147.494930478481,148.166084160347,148.8452543975,149.532441191406,150.227644546324,150.930864474316,151.642101008671,152.361354238941,153.088624399909,153.823912091427,154.567218806829,155.318548168166,156.077908733664,156.845320199569,157.62082671151,158.404524613191,159.196618600509,159.997531979678,160.808116591777,161.630040094775,162.466477687244,163.323307015453,164.211102005067,165.14834149655,166.166379420694,167.316836139646,168.682114829484,170.389647141022,172.630133559763,175.679366787954,179.922139351132,185.87524076306,194.204772220178,205.731245852799,221.414672884424,242.311702829711,255.053725436198,269.498498024701,285.764893432001,303.956887975309,324.158334173417,346.427515942325,370.79166175411,397.241621048407,425.726933073745,456.151533035919,522.187011228202,593.568059871865,667.702872663532,741.291056058406,810.537633714185,842.286793249196,871.464587780853,897.607089327794,920.287344222502,939.127177487841,953.807916204584,964.079607524274,969.768358935213,970.781499637864,967.110348985541,958.830476435591,946.099442134501,929.15211252261,908.293745546969,883.891129901894,856.362137537969,826.164104819179,793.781492677843,724.460604891116,652.347156473739,581.071999093492,513.673509019258,482.171247926994,452.427115878479,424.59657424554,398.785506973751,375.05341396417,353.417543060628,333.857710667728,316.321564107313,300.73005257207,286.982895923615,264.545754817617,247.974918476124,236.190387993937,228.166695413697,222.995852172652,219.918211947559,218.3284561403,217.764760151405,217.888531713505,218.460583438018,219.3177865746,220.352562069168,221.49622451688,222.706275478354,223.957210936296,225.234176066809,226.5287685408,226.5287685408,226.5287685408,0],\"fFunctions\":{\"_typename\":\"TList\",\"name\":\"TList\",\"arr\":[],\"opt\":[]},\"fHistogram\":{\"_typename\":\"TH1F\",\"fUniqueID\":0,\"fBits\":520,\"fName\":\"model_Norm[mass]\",\"fTitle\":\"Projection of model\",\"fLineColor\":602,\"fLineStyle\":1,\"fLineWidth\":1,\"fFillColor\":0,\"fFillStyle\":1001,\"fMarkerColor\":1,\"fMarkerStyle\":1,\"fMarkerSize\":1,\"fNcells\":127,\"fXaxis\":{\"_typename\":\"TAxis\",\"fUniqueID\":0,\"fBits\":0,\"fName\":\"xaxis\",\"fTitle\":\"\",\"fNdivisions\":510,\"fAxisColor\":1,\"fLabelColor\":1,\"fLabelFont\":42,\"fLabelOffset\":0.005,\"fLabelSize\":0.035,\"fTickLength\":0.03,\"fTitleOffset\":1,\"fTitleSize\":0.035,\"fTitleColor\":1,\"fTitleFont\":42,\"fNbins\":125,\"fXmin\":8.34766368,\"fXmax\":10.01233632,\"fXbins\":[],\"fFirst\":0,\"fLast\":0,\"fBits2\":0,\"fTimeDisplay\":false,\"fTimeFormat\":\"\",\"fLabels\":null,\"fModLabs\":null},\"fYaxis\":{\"_typename\":\"TAxis\",\"fUniqueID\":0,\"fBits\":0,\"fName\":\"yaxis\",\"fTitle\":\"\",\"fNdivisions\":510,\"fAxisColor\":1,\"fLabelColor\":1,\"fLabelFont\":42,\"fLabelOffset\":0.005,\"fLabelSize\":0.035,\"fTickLength\":0.03,\"fTitleOffset\":0,\"fTitleSize\":0.035,\"fTitleColor\":1,\"fTitleFont\":42,\"fNbins\":1,\"fXmin\":0,\"fXmax\":1067.85964960165,\"fXbins\":[],\"fFirst\":0,\"fLast\":0,\"fBits2\":0,\"fTimeDisplay\":false,\"fTimeFormat\":\"\",\"fLabels\":null,\"fModLabs\":null},\"fZaxis\":{\"_typename\":\"TAxis\",\"fUniqueID\":0,\"fBits\":0,\"fName\":\"zaxis\",\"fTitle\":\"\",\"fNdivisions\":510,\"fAxisColor\":1,\"fLabelColor\":1,\"fLabelFont\":42,\"fLabelOffset\":0.005,\"fLabelSize\":0.035,\"fTickLength\":0.03,\"fTitleOffset\":1,\"fTitleSize\":0.035,\"fTitleColor\":1,\"fTitleFont\":42,\"fNbins\":1,\"fXmin\":0,\"fXmax\":1,\"fXbins\":[],\"fFirst\":0,\"fLast\":0,\"fBits2\":0,\"fTimeDisplay\":false,\"fTimeFormat\":\"\",\"fLabels\":null,\"fModLabs\":null},\"fBarOffset\":0,\"fBarWidth\":1000,\"fEntries\":0,\"fTsumw\":0,\"fTsumw2\":0,\"fTsumwx\":0,\"fTsumwx2\":0,\"fMaximum\":1067.85964960165,\"fMinimum\":0,\"fNormFactor\":0,\"fContour\":[],\"fSumw2\":[],\"fOption\":\"\",\"fFunctions\":{\"_typename\":\"TList\",\"name\":\"TList\",\"arr\":[],\"opt\":[]},\"fBufferSize\":0,\"fBuffer\":[],\"fBinStatErrOpt\":0,\"fStatOverflows\":2,\"fArray\":[0,0,0,0,0,0,0,0,0,0,0,0,0,0,0,0,0,0,0,0,0,0,0,0,0,0,0,0,0,0,0,0,0,0,0,0,0,0,0,0,0,0,0,0,0,0,0,0,0,0,0,0,0,0,0,0,0,0,0,0,0,0,0,0,0,0,0,0,0,0,0,0,0,0,0,0,0,0,0,0,0,0,0,0,0,0,0,0,0,0,0,0,0,0,0,0,0,0,0,0,0,0,0,0,0,0,0,0,0,0,0,0,0,0,0,0,0,0,0,0,0,0,0,0,0,0,0]},\"fMinimum\":-1111,\"fMaximum\":-1111,\"_yAxisLabel\":\"Projection of model\",\"_ymin\":0,\"_ymax\":970.781499637864,\"_normValue\":0},{\"_typename\":\"RooCurve\",\"fUniqueID\":0,\"fBits\":525320,\"fName\":\"model_Norm[mass]\",\"fTitle\":\"Projection of model\",\"fLineColor\":600,\"fLineStyle\":1,\"fLineWidth\":3,\"fFillColor\":0,\"fFillStyle\":1000,\"fMarkerColor\":1,\"fMarkerStyle\":1,\"fMarkerSize\":1,\"fNpoints\":125,\"fX\":[8.4863864,8.4864,8.5,8.5136,8.5272,8.5408,8.5544,8.568,8.5816,8.5952,8.6088,8.6224,8.636,8.6496,8.6632,8.6768,8.6904,8.704,8.7176,8.7312,8.7448,8.7584,8.772,8.7856,8.7992,8.8128,8.8264,8.84,8.8536,8.8672,8.8808,8.8944,8.908,8.9216,8.9352,8.9488,8.9624,8.976,8.9896,9.0032,9.0168,9.0304,9.044,9.0576,9.0712,9.0848,9.0984,9.112,9.1256,9.1392,9.1528,9.1664,9.18,9.1936,9.2072,9.2208,9.2344,9.248,9.2548,9.2616,9.2684,9.2752,9.282,9.2888,9.2956,9.3024,9.3092,9.316,9.3296,9.3432,9.3568,9.3704,9.384,9.3908,9.3976,9.4044,9.4112,9.418,9.4248,9.4316,9.4384,9.4452,9.452,9.4588,9.4656,9.4724,9.4792,9.486,9.4928,9.4996,9.5064,9.52,9.5336,9.5472,9.5608,9.5676,9.5744,9.5812,9.588,9.5948,9.6016,9.6084,9.6152,9.622,9.6288,9.6424,9.656,9.6696,9.6832,9.6968,9.7104,9.724,9.7376,9.7512,9.7648,9.7784,9.792,9.8056,9.8192,9.8328,9.8464,9.86,9.86,9.8736,9.8736136],\"fY\":[0,135.755333305174,135.755333305174,136.266155895524,136.784995040433,137.3118507399,137.846722993926,138.389611802511,138.940517165654,139.499439083356,140.066377555617,140.641332582437,141.224304163815,141.815292299752,142.414296990248,143.021318235303,143.636356034916,144.259410389088,144.890481297819,145.529568761112,146.176672778969,146.831793351409,147.494930478481,148.166084160347,148.8452543975,149.532441191406,150.227644546324,150.930864474316,151.642101008671,152.361354238941,153.088624399909,153.823912091427,154.567218806829,155.318548168166,156.077908733664,156.845320199569,157.62082671151,158.404524613191,159.196618600509,159.997531979678,160.808116591777,161.630040094775,162.466477687244,163.323307015453,164.211102005067,165.14834149655,166.166379420694,167.316836139646,168.682114829484,170.389647141022,172.630133559763,175.679366787954,179.922139351132,185.87524076306,194.204772220178,205.731245852799,221.414672884424,242.311702829711,255.053725436198,269.498498024701,285.764893432001,303.956887975309,324.158334173417,346.427515942325,370.79166175411,397.241621048407,425.726933073745,456.151533035919,522.187011228202,593.568059871865,667.702872663532,741.291056058406,810.537633714185,842.286793249196,871.464587780853,897.607089327794,920.287344222502,939.127177487841,953.807916204584,964.079607524274,969.768358935213,970.781499637864,967.110348985541,958.830476435591,946.099442134501,929.15211252261,908.293745546969,883.891129901894,856.362137537969,826.164104819179,793.781492677843,724.460604891116,652.347156473739,581.071999093492,513.673509019258,482.171247926994,452.427115878479,424.59657424554,398.785506973751,375.05341396417,353.417543060628,333.857710667728,316.321564107313,300.73005257207,286.982895923615,264.545754817617,247.974918476124,236.190387993937,228.166695413697,222.995852172652,219.918211947559,218.3284561403,217.764760151405,217.888531713505,218.460583438018,219.3177865746,220.352562069168,221.49622451688,222.706275478354,223.957210936296,225.234176066809,226.5287685408,226.5287685408,226.5287685408,0],\"fFunctions\":{\"_typename\":\"TList\",\"name\":\"TList\",\"arr\":[],\"opt\":[]},\"fHistogram\":{\"_typename\":\"TH1F\",\"fUniqueID\":0,\"fBits\":520,\"fName\":\"model_Norm[mass]\",\"fTitle\":\"Projection of model\",\"fLineColor\":602,\"fLineStyle\":1,\"fLineWidth\":1,\"fFillColor\":0,\"fFillStyle\":1001,\"fMarkerColor\":1,\"fMarkerStyle\":1,\"fMarkerSize\":1,\"fNcells\":127,\"fXaxis\":{\"_typename\":\"TAxis\",\"fUniqueID\":0,\"fBits\":0,\"fName\":\"xaxis\",\"fTitle\":\"\",\"fNdivisions\":510,\"fAxisColor\":1,\"fLabelColor\":1,\"fLabelFont\":42,\"fLabelOffset\":0.005,\"fLabelSize\":0.035,\"fTickLength\":0.03,\"fTitleOffset\":1,\"fTitleSize\":0.035,\"fTitleColor\":1,\"fTitleFont\":42,\"fNbins\":125,\"fXmin\":8.34766368,\"fXmax\":10.01233632,\"fXbins\":[],\"fFirst\":0,\"fLast\":0,\"fBits2\":0,\"fTimeDisplay\":false,\"fTimeFormat\":\"\",\"fLabels\":null,\"fModLabs\":null},\"fYaxis\":{\"_typename\":\"TAxis\",\"fUniqueID\":0,\"fBits\":0,\"fName\":\"yaxis\",\"fTitle\":\"\",\"fNdivisions\":510,\"fAxisColor\":1,\"fLabelColor\":1,\"fLabelFont\":42,\"fLabelOffset\":0.005,\"fLabelSize\":0.035,\"fTickLength\":0.03,\"fTitleOffset\":0,\"fTitleSize\":0.035,\"fTitleColor\":1,\"fTitleFont\":42,\"fNbins\":1,\"fXmin\":0,\"fXmax\":1067.85964960165,\"fXbins\":[],\"fFirst\":0,\"fLast\":0,\"fBits2\":0,\"fTimeDisplay\":false,\"fTimeFormat\":\"\",\"fLabels\":null,\"fModLabs\":null},\"fZaxis\":{\"_typename\":\"TAxis\",\"fUniqueID\":0,\"fBits\":0,\"fName\":\"zaxis\",\"fTitle\":\"\",\"fNdivisions\":510,\"fAxisColor\":1,\"fLabelColor\":1,\"fLabelFont\":42,\"fLabelOffset\":0.005,\"fLabelSize\":0.035,\"fTickLength\":0.03,\"fTitleOffset\":1,\"fTitleSize\":0.035,\"fTitleColor\":1,\"fTitleFont\":42,\"fNbins\":1,\"fXmin\":0,\"fXmax\":1,\"fXbins\":[],\"fFirst\":0,\"fLast\":0,\"fBits2\":0,\"fTimeDisplay\":false,\"fTimeFormat\":\"\",\"fLabels\":null,\"fModLabs\":null},\"fBarOffset\":0,\"fBarWidth\":1000,\"fEntries\":0,\"fTsumw\":0,\"fTsumw2\":0,\"fTsumwx\":0,\"fTsumwx2\":0,\"fMaximum\":1067.85964960165,\"fMinimum\":0,\"fNormFactor\":0,\"fContour\":[],\"fSumw2\":[],\"fOption\":\"\",\"fFunctions\":{\"_typename\":\"TList\",\"name\":\"TList\",\"arr\":[],\"opt\":[]},\"fBufferSize\":0,\"fBuffer\":[],\"fBinStatErrOpt\":0,\"fStatOverflows\":2,\"fArray\":[0,0,0,0,0,0,0,0,0,0,0,0,0,0,0,0,0,0,0,0,0,0,0,0,0,0,0,0,0,0,0,0,0,0,0,0,0,0,0,0,0,0,0,0,0,0,0,0,0,0,0,0,0,0,0,0,0,0,0,0,0,0,0,0,0,0,0,0,0,0,0,0,0,0,0,0,0,0,0,0,0,0,0,0,0,0,0,0,0,0,0,0,0,0,0,0,0,0,0,0,0,0,0,0,0,0,0,0,0,0,0,0,0,0,0,0,0,0,0,0,0,0,0,0,0,0,0]},\"fMinimum\":-1111,\"fMaximum\":-1111,\"_yAxisLabel\":\"Projection of model\",\"_ymin\":0,\"_ymax\":970.781499637864,\"_normValue\":0},{\"$ref\":3},{\"_typename\":\"TPaveText\",\"fUniqueID\":0,\"fBits\":9,\"fLineColor\":1,\"fLineStyle\":1,\"fLineWidth\":1,\"fFillColor\":0,\"fFillStyle\":0,\"fX1\":8.83081608675078,\"fY1\":1182.84819739889,\"fX2\":9.52918391324922,\"fY2\":1273.27079951091,\"fX1NDC\":0.294597701149426,\"fY1NDC\":0.931440682734473,\"fX2NDC\":0.705402298850574,\"fY2NDC\":0.995000004768372,\"fBorderSize\":0,\"fInit\":1,\"fShadowColor\":1,\"fCornerRadius\":0,\"fOption\":\"blNDC\",\"fName\":\"title\",\"fTextAngle\":0,\"fTextSize\":0,\"fTextAlign\":22,\"fTextColor\":1,\"fTextFont\":42,\"fLabel\":\"\",\"fLongest\":32,\"fMargin\":0.05,\"fLines\":{\"_typename\":\"TList\",\"name\":\"TList\",\"arr\":[{\"_typename\":\"TLatex\",\"fUniqueID\":0,\"fBits\":0,\"fName\":\"\",\"fTitle\":\"A RooPlot of \\\"m_{#Upsilon}(GeV)\\\"\",\"fTextAngle\":0,\"fTextSize\":0,\"fTextAlign\":0,\"fTextColor\":0,\"fTextFont\":0,\"fX\":0,\"fY\":0,\"fLineColor\":1,\"fLineStyle\":1,\"fLineWidth\":2,\"fLimitFactorSize\":3,\"fOriginSize\":0.0540254227817059}],\"opt\":[\"\"]}},{\"_typename\":\"TStyle\",\"fUniqueID\":0,\"fBits\":0,\"fName\":\"Modern\",\"fTitle\":\"Modern Style\",\"fLineColor\":1,\"fLineStyle\":1,\"fLineWidth\":1,\"fFillColor\":19,\"fFillStyle\":1001,\"fMarkerColor\":1,\"fMarkerStyle\":1,\"fMarkerSize\":1,\"fTextAngle\":0,\"fTextSize\":0.05,\"fTextAlign\":11,\"fTextColor\":1,\"fTextFont\":62,\"fXaxis\":{\"_typename\":\"TAttAxis\",\"fNdivisions\":510,\"fAxisColor\":1,\"fLabelColor\":1,\"fLabelFont\":42,\"fLabelOffset\":0.005,\"fLabelSize\":0.035,\"fTickLength\":0.03,\"fTitleOffset\":1,\"fTitleSize\":0.035,\"fTitleColor\":1,\"fTitleFont\":42},\"fYaxis\":{\"_typename\":\"TAttAxis\",\"fNdivisions\":510,\"fAxisColor\":1,\"fLabelColor\":1,\"fLabelFont\":42,\"fLabelOffset\":0.005,\"fLabelSize\":0.035,\"fTickLength\":0.03,\"fTitleOffset\":0,\"fTitleSize\":0.035,\"fTitleColor\":1,\"fTitleFont\":42},\"fZaxis\":{\"_typename\":\"TAttAxis\",\"fNdivisions\":510,\"fAxisColor\":1,\"fLabelColor\":1,\"fLabelFont\":42,\"fLabelOffset\":0.005,\"fLabelSize\":0.035,\"fTickLength\":0.03,\"fTitleOffset\":1,\"fTitleSize\":0.035,\"fTitleColor\":1,\"fTitleFont\":42},\"fBarWidth\":1,\"fBarOffset\":0,\"fColorModelPS\":0,\"fDrawBorder\":0,\"fOptLogx\":0,\"fOptLogy\":0,\"fOptLogz\":0,\"fOptDate\":0,\"fOptStat\":1111,\"fOptTitle\":1,\"fOptFile\":0,\"fOptFit\":0,\"fShowEventStatus\":0,\"fShowEditor\":0,\"fShowToolBar\":0,\"fNumberContours\":20,\"fAttDate\":{\"_typename\":\"TAttText\",\"fTextAngle\":0,\"fTextSize\":0.025,\"fTextAlign\":11,\"fTextColor\":1,\"fTextFont\":62},\"fDateX\":0.01,\"fDateY\":0.01,\"fEndErrorSize\":2,\"fErrorX\":0.5,\"fFuncColor\":2,\"fFuncStyle\":1,\"fFuncWidth\":2,\"fGridColor\":0,\"fGridStyle\":3,\"fGridWidth\":1,\"fLegendBorderSize\":1,\"fLegendFillColor\":0,\"fLegendFont\":42,\"fLegendTextSize\":0,\"fHatchesLineWidth\":1,\"fHatchesSpacing\":1,\"fFrameFillColor\":0,\"fFrameLineColor\":1,\"fFrameFillStyle\":1001,\"fFrameLineStyle\":1,\"fFrameLineWidth\":1,\"fFrameBorderSize\":1,\"fFrameBorderMode\":0,\"fHistFillColor\":0,\"fHistLineColor\":602,\"fHistFillStyle\":1001,\"fHistLineStyle\":1,\"fHistLineWidth\":1,\"fHistMinimumZero\":false,\"fHistTopMargin\":0.05,\"fCanvasPreferGL\":false,\"fCanvasColor\":0,\"fCanvasBorderSize\":2,\"fCanvasBorderMode\":0,\"fCanvasDefH\":500,\"fCanvasDefW\":700,\"fCanvasDefX\":10,\"fCanvasDefY\":10,\"fPadColor\":0,\"fPadBorderSize\":2,\"fPadBorderMode\":0,\"fPadBottomMargin\":0.1,\"fPadTopMargin\":0.1,\"fPadLeftMargin\":0.1,\"fPadRightMargin\":0.1,\"fPadGridX\":false,\"fPadGridY\":false,\"fPadTickX\":0,\"fPadTickY\":0,\"fPaperSizeX\":20,\"fPaperSizeY\":26,\"fScreenFactor\":1,\"fStatColor\":0,\"fStatTextColor\":1,\"fStatBorderSize\":1,\"fStatFont\":42,\"fStatFontSize\":0,\"fStatStyle\":1001,\"fStatFormat\":\"6.4g\",\"fStatX\":0.98,\"fStatY\":0.935,\"fStatW\":0.2,\"fStatH\":0.16,\"fStripDecimals\":true,\"fTitleAlign\":23,\"fTitleColor\":0,\"fTitleTextColor\":1,\"fTitleBorderSize\":0,\"fTitleFont\":42,\"fTitleFontSize\":0.05,\"fTitleStyle\":0,\"fTitleX\":0.5,\"fTitleY\":0.995,\"fTitleW\":0,\"fTitleH\":0,\"fLegoInnerR\":0.5,\"fLineStyle\":[\"\",\"  \",\" 12 12\",\" 4 8\",\" 12 16 4 16\",\" 20 12 4 12\",\" 20 12 4 12 4 12 4 12\",\" 20 20\",\" 20 12 4 12 4 12\",\" 80 20\",\" 80 40 4 40\",\"  \",\"  \",\"  \",\"  \",\"  \",\"  \",\"  \",\"  \",\"  \",\"  \",\"  \",\"  \",\"  \",\"  \",\"  \",\"  \",\"  \",\"  \",\"  \"],\"fHeaderPS\":\"\",\"fTitlePS\":\"\",\"fFitFormat\":\"5.4g\",\"fPaintTextFormat\":\"g\",\"fLineScalePS\":3,\"fJoinLinePS\":0,\"fCapLinePS\":0,\"fTimeOffset\":788918400,\"fImageScaling\":1}],\"opt\":[\"\",\"FUNC\",\"p\",\"l\",\"l\",\"AXISSAME\",\"blNDC\",\"\"]},\"fExecs\":null,\"fName\":\"c1\",\"fTitle\":\"c1\",\"fNumPaletteColor\":0,\"fNextPaletteColor\":0,\"fDISPLAY\":\"$DISPLAY\",\"fDoubleBuffer\":0,\"fRetained\":true,\"fXsizeUser\":0,\"fYsizeUser\":0,\"fXsizeReal\":20,\"fYsizeReal\":14.28571,\"fWindowTopX\":0,\"fWindowTopY\":0,\"fWindowWidth\":0,\"fWindowHeight\":0,\"fCw\":696,\"fCh\":472,\"fCatt\":{\"_typename\":\"TAttCanvas\",\"fXBetween\":2,\"fYBetween\":2,\"fTitleFromTop\":1.2,\"fXdate\":0.2,\"fYdate\":0.3,\"fAdate\":1},\"kMoveOpaque\":true,\"kResizeOpaque\":true,\"fHighLightColor\":2,\"fBatch\":true,\"kShowEventStatus\":false,\"kAutoExec\":true,\"kMenuBar\":true});\n",
       "       Core.key_handling = false;\n",
       "       Core.draw(\"root_plot_1611078419159\", obj, \"\");\n",
       "     }\n",
       " );\n",
       "</script>\n"
      ],
      "text/plain": [
       "<IPython.core.display.HTML object>"
      ]
     },
     "metadata": {},
     "output_type": "display_data"
    }
   ],
   "source": [
    "frame = mass.frame()\n",
    "ds.plotOn(frame)\n",
    "model.plotOn(frame)\n",
    "c = ROOT.TCanvas()\n",
    "\n",
    "n_param = fitresult.floatParsFinal().getSize();\n",
    "\n",
    "reduced_chi_square = frame.chiSquare(n_param);\n",
    "model.plotOn(frame)\n",
    "\n",
    "#Tem que entender como adapta isso aqui pra colocar as infos direitinho na tela.\n",
    "'''paveText = ROOT.TPaveText(0.5,0.5,0.9,0.9,\"brNDC\");\n",
    "paveText.SetFillColor(ROOT.kWhite);\n",
    "paveText.SetFillStyle(1001);\n",
    "paveText.SetTextSize(0.025);\n",
    "paveText.AddText(\"#chi^{2}/ndof = %f \" ,reduced_chi_square);\n",
    "paveText.AddText(ROOT.Form(\"Mean_{m_{#Upsilon}} = %.5f #pm %.5f GeV\", mean.getVal(), mean.getError()));\n",
    "paveText.AddText(ROOT.Form(\"#sigma_{m_{#Upsilon}} = %.5f #pm %.5f GeV\", sigma.getVal(), sigma.getError()));\n",
    "paveText.AddText(ROOT.Form(\"a0 = %.5f #pm %.5f\", a0.getVal(), a0.getError()));\n",
    "paveText.AddText(ROOT.Form(\"a1 = %f #pm %f\", a1.getVal(), a1.getError()));\n",
    "paveText.AddText(ROOT.Form(\"s = %.5f #pm %.5f\", s.getVal(), s.getError()));\n",
    "paveText.AddText(ROOT.Form(\"b = %f #pm %f\", b.getVal(), b.getError()));\n",
    "paveText.Draw();'''\n",
    "\n",
    "\n",
    "\n",
    "\n",
    "frame.Draw()\n",
    "c.Draw()"
   ]
  },
  {
   "cell_type": "code",
   "execution_count": 10,
   "metadata": {},
   "outputs": [
    {
     "name": "stdout",
     "output_type": "stream",
     "text": [
      "[#1] INFO:ObjectHandling -- RooWorkspace::import() importing dataset ds\n",
      "[#1] INFO:ObjectHandling -- RooWorkspace::import() importing RooRealVar::mass\n",
      "[#1] INFO:ObjectHandling -- RooWorkspace::import() importing RooAddPdf::model\n",
      "[#1] INFO:ObjectHandling -- RooWorkspace::import() importing RooGaussian::sig\n",
      "[#1] INFO:ObjectHandling -- RooWorkspace::import() importing RooRealVar::mean\n",
      "[#1] INFO:ObjectHandling -- RooWorkspace::import() importing RooRealVar::sigma\n",
      "[#1] INFO:ObjectHandling -- RooWorkspace::import() importing RooRealVar::s\n",
      "[#1] INFO:ObjectHandling -- RooWorkspace::import() importing RooChebychev::bkg\n",
      "[#1] INFO:ObjectHandling -- RooWorkspace::import() importing RooRealVar::a0\n",
      "[#1] INFO:ObjectHandling -- RooWorkspace::import() importing RooRealVar::a1\n",
      "[#1] INFO:ObjectHandling -- RooWorkspace::import() importing RooRealVar::b\n",
      "\n",
      "RooWorkspace()  contents\n",
      "\n",
      "variables\n",
      "---------\n",
      "(a0,a1,b,mass,mean,s,sigma)\n",
      "\n",
      "p.d.f.s\n",
      "-------\n",
      "RooChebychev::bkg[ x=mass coefList=(a0,a1) ] = 1.08054\n",
      "RooAddPdf::model[ s * sig + b * bkg ] = 1.04659\n",
      "RooGaussian::sig[ x=mass mean=mean sigma=sigma ] = 0.999644\n",
      "\n",
      "datasets\n",
      "--------\n",
      "RooDataSet::ds(mass)\n",
      "\n"
     ]
    }
   ],
   "source": [
    "ws = ROOT.RooWorkspace()\n",
    "getattr(ws,'import')(ds)\n",
    "getattr(ws,'import')(model)\n",
    "ws.Print()"
   ]
  },
  {
   "cell_type": "code",
   "execution_count": 11,
   "metadata": {},
   "outputs": [],
   "source": [
    "sbModel = ROOT.RooStats.ModelConfig(\"sbModelConfig\");\n",
    "sbModel.SetWorkspace(ws);\n",
    "sbModel.SetPdf(ws.pdf(\"model\"));\n",
    "sbModel.SetName(\"S+B Model\");\n",
    "sbModel.SetObservables(ws.var(\"mass\"));\n",
    "sbModel.SetParametersOfInterest(ws.var(\"s\"));"
   ]
  },
  {
   "cell_type": "code",
   "execution_count": 12,
   "metadata": {},
   "outputs": [],
   "source": [
    "nuisPar = sbModel.GetNuisanceParameters()"
   ]
  },
  {
   "cell_type": "code",
   "execution_count": 13,
   "metadata": {},
   "outputs": [],
   "source": [
    "bayesianCalc = ROOT.RooStats.BayesianCalculator(ds,sbModel)\n",
    "bayesianCalc.SetConfidenceLevel(0.95)\n",
    "bayesianCalc.SetLeftSideTailFraction(0.5)\n",
    "bayesianCalc.SetNumIters(1000)\n",
    "bayesianCalc.SetIntegrationType(\"\") \n",
    "bayesianCalc.SetScanOfPosterior(50)"
   ]
  },
  {
   "cell_type": "code",
   "execution_count": 14,
   "metadata": {},
   "outputs": [],
   "source": [
    "firstPOI = sbModel.GetParametersOfInterest().first()"
   ]
  },
  {
   "cell_type": "code",
   "execution_count": 15,
   "metadata": {},
   "outputs": [
    {
     "name": "stdout",
     "output_type": "stream",
     "text": [
      "[#1] INFO:Minization -- p.d.f. provides expected number of events, including extended term in likelihood.\n",
      "[#1] INFO:Minization -- createNLL: caching constraint set under name CONSTR_OF_PDF_model_FOR_OBS_mass with 0 entries\n",
      "[#1] INFO:Eval -- BayesianCalculator::GetPosteriorFunction :  nll value -278293 poi value = 12613.7\n",
      "[#1] INFO:Eval -- BayesianCalculator::GetPosteriorFunction : minimum of NLL vs POI for POI =  12613.3 min NLL = -278293\n",
      "[#1] INFO:Minization -- p.d.f. provides expected number of events, including extended term in likelihood.\n",
      "[#1] INFO:Minization -- createNLL picked up cached consraints from workspace with 0 entries\n",
      "[#1] INFO:Eval -- BayesianCalculator - scan posterior function in nbins = 50\n",
      "[#1] INFO:Eval -- BayesianCalculator::GetInterval - found a valid interval : [12289.5 , 12975.3 ]\n"
     ]
    }
   ],
   "source": [
    "interval = bayesianCalc.GetInterval()"
   ]
  },
  {
   "cell_type": "code",
   "execution_count": 16,
   "metadata": {},
   "outputs": [
    {
     "name": "stdout",
     "output_type": "stream",
     "text": [
      "95% interval on s is : [12289.452975439533,12975.286601146343]\n"
     ]
    }
   ],
   "source": [
    "lowerLimit = interval.LowerLimit()\n",
    "upperLimit = interval.UpperLimit()\n",
    "\n",
    "print (\"95% interval on {0} is : [{1},{2}]\".format(firstPOI.GetName(),lowerLimit,upperLimit))"
   ]
  },
  {
   "cell_type": "code",
   "execution_count": 17,
   "metadata": {},
   "outputs": [
    {
     "data": {
      "text/html": [
       "\n",
       "<div id=\"root_plot_1611078422109\"\n",
       "     style=\"width: 696px; height: 472px\">\n",
       "</div>\n",
       "<script src=\"/static/components/requirejs/require.js\" type=\"text/javascript\" charset=\"utf-8\"></script>\n",
       "<script>\n",
       " requirejs.config({\n",
       "     paths: {\n",
       "       'JSRootCore' : '/static/scripts/JSRootCore',\n",
       "     }\n",
       "   });\n",
       " require(['JSRootCore'],\n",
       "     function(Core) {\n",
       "       var obj = Core.JSONR_unref({\"_typename\":\"TCanvas\",\"fUniqueID\":0,\"fBits\":3342344,\"fLineColor\":1,\"fLineStyle\":1,\"fLineWidth\":1,\"fFillColor\":0,\"fFillStyle\":1001,\"fLeftMargin\":0.1,\"fRightMargin\":0.1,\"fBottomMargin\":0.1,\"fTopMargin\":0.1,\"fXfile\":2,\"fYfile\":2,\"fAfile\":1,\"fXstat\":0.99,\"fYstat\":0.99,\"fAstat\":2,\"fFrameFillColor\":0,\"fFrameLineColor\":1,\"fFrameFillStyle\":1001,\"fFrameLineStyle\":1,\"fFrameLineWidth\":1,\"fFrameBorderSize\":1,\"fFrameBorderMode\":0,\"fX1\":-1875.00013969839,\"fY1\":-0.130604940623197,\"fX2\":16875.0001396984,\"fY2\":1.17544438776217,\"fXtoAbsPixelk\":69.6000541484835,\"fXtoPixelk\":69.6000541484835,\"fXtoPixel\":0.0371199994468689,\"fYtoAbsPixelk\":424.800047186661,\"fYtoPixelk\":424.800047186661,\"fYtoPixel\":-361.395231972993,\"fUtoAbsPixelk\":5e-5,\"fUtoPixelk\":5e-5,\"fUtoPixel\":696,\"fVtoAbsPixelk\":472.00005,\"fVtoPixelk\":472,\"fVtoPixel\":-472,\"fAbsPixeltoXk\":-1875.00013969839,\"fPixeltoXk\":-1875.00013969839,\"fPixeltoX\":26.939655573846,\"fAbsPixeltoYk\":1.17544438776217,\"fPixeltoYk\":-0.130604940623197,\"fPixeltoY\":-0.0027670536618334,\"fXlowNDC\":0,\"fYlowNDC\":0,\"fXUpNDC\":1,\"fYUpNDC\":1,\"fWNDC\":1,\"fHNDC\":1,\"fAbsXlowNDC\":0,\"fAbsYlowNDC\":0,\"fAbsWNDC\":1,\"fAbsHNDC\":1,\"fUxmin\":0,\"fUymin\":0,\"fUxmax\":15000,\"fUymax\":1.04483944713897,\"fTheta\":30,\"fPhi\":30,\"fAspectRatio\":0,\"fNumber\":0,\"fTickx\":0,\"fTicky\":0,\"fLogx\":0,\"fLogy\":0,\"fLogz\":0,\"fPadPaint\":0,\"fCrosshair\":0,\"fCrosshairPos\":0,\"fBorderSize\":2,\"fBorderMode\":0,\"fModified\":false,\"fGridx\":false,\"fGridy\":false,\"fAbsCoord\":false,\"fEditable\":true,\"fFixedAspectRatio\":false,\"fPrimitives\":{\"_typename\":\"TList\",\"name\":\"TList\",\"arr\":[{\"_typename\":\"TFrame\",\"fUniqueID\":0,\"fBits\":8,\"fLineColor\":1,\"fLineStyle\":1,\"fLineWidth\":1,\"fFillColor\":0,\"fFillStyle\":1001,\"fX1\":0,\"fY1\":0,\"fX2\":15000,\"fY2\":1.04483944713897,\"fBorderSize\":1,\"fBorderMode\":0},{\"_typename\":\"TH1D\",\"fUniqueID\":0,\"fBits\":520,\"fName\":\"frame_a94a540\",\"fTitle\":\"Posterior probability of parameter \\\"s\\\"\",\"fLineColor\":602,\"fLineStyle\":1,\"fLineWidth\":1,\"fFillColor\":0,\"fFillStyle\":1001,\"fMarkerColor\":1,\"fMarkerStyle\":1,\"fMarkerSize\":1,\"fNcells\":102,\"fXaxis\":{\"_typename\":\"TAxis\",\"fUniqueID\":0,\"fBits\":0,\"fName\":\"xaxis\",\"fTitle\":\"N_{sig}\",\"fNdivisions\":510,\"fAxisColor\":1,\"fLabelColor\":1,\"fLabelFont\":42,\"fLabelOffset\":0.005,\"fLabelSize\":0.035,\"fTickLength\":0.03,\"fTitleOffset\":1,\"fTitleSize\":0.035,\"fTitleColor\":1,\"fTitleFont\":42,\"fNbins\":100,\"fXmin\":0,\"fXmax\":15000,\"fXbins\":[],\"fFirst\":0,\"fLast\":0,\"fBits2\":0,\"fTimeDisplay\":false,\"fTimeFormat\":\"\",\"fLabels\":null,\"fModLabs\":null},\"fYaxis\":{\"_typename\":\"TAxis\",\"fUniqueID\":0,\"fBits\":0,\"fName\":\"yaxis\",\"fTitle\":\"posterior function\",\"fNdivisions\":510,\"fAxisColor\":1,\"fLabelColor\":1,\"fLabelFont\":42,\"fLabelOffset\":0.005,\"fLabelSize\":0.035,\"fTickLength\":0.03,\"fTitleOffset\":0,\"fTitleSize\":0.035,\"fTitleColor\":1,\"fTitleFont\":42,\"fNbins\":1,\"fXmin\":0,\"fXmax\":1,\"fXbins\":[],\"fFirst\":0,\"fLast\":0,\"fBits2\":0,\"fTimeDisplay\":false,\"fTimeFormat\":\"\",\"fLabels\":null,\"fModLabs\":null},\"fZaxis\":{\"_typename\":\"TAxis\",\"fUniqueID\":0,\"fBits\":0,\"fName\":\"zaxis\",\"fTitle\":\"\",\"fNdivisions\":510,\"fAxisColor\":1,\"fLabelColor\":1,\"fLabelFont\":42,\"fLabelOffset\":0.005,\"fLabelSize\":0.035,\"fTickLength\":0.03,\"fTitleOffset\":1,\"fTitleSize\":0.035,\"fTitleColor\":1,\"fTitleFont\":42,\"fNbins\":1,\"fXmin\":0,\"fXmax\":1,\"fXbins\":[],\"fFirst\":0,\"fLast\":0,\"fBits2\":0,\"fTimeDisplay\":false,\"fTimeFormat\":\"\",\"fLabels\":null,\"fModLabs\":null},\"fBarOffset\":0,\"fBarWidth\":1000,\"fEntries\":2,\"fTsumw\":0,\"fTsumw2\":0,\"fTsumwx\":0,\"fTsumwx2\":0,\"fMaximum\":1.04483944713897,\"fMinimum\":-1111,\"fNormFactor\":0,\"fContour\":[],\"fSumw2\":[],\"fOption\":\"\",\"fFunctions\":{\"_typename\":\"TList\",\"name\":\"TList\",\"arr\":[],\"opt\":[]},\"fBufferSize\":0,\"fBuffer\":[],\"fBinStatErrOpt\":0,\"fStatOverflows\":2,\"fArray\":[0,1.04483944713897,0,0,0,0,0,0,0,0,0,0,0,0,0,0,0,0,0,0,0,0,0,0,0,0,0,0,0,0,0,0,0,0,0,0,0,0,0,0,0,0,0,0,0,0,0,0,0,0,0,0,0,0,0,0,0,0,0,0,0,0,0,0,0,0,0,0,0,0,0,0,0,0,0,0,0,0,0,0,0,0,0,0,0,0,0,0,0,0,0,0,0,0,0,0,0,0,0,0,0,0]},{\"_typename\":\"RooCurve\",\"fUniqueID\":0,\"fBits\":525320,\"fName\":\"likelihood_times_prior_model_approx_Norm[s]\",\"fTitle\":\"Projection of exp(-@0+-278293.176860)_approx\",\"fLineColor\":600,\"fLineStyle\":1,\"fLineWidth\":3,\"fFillColor\":920,\"fFillStyle\":1000,\"fMarkerColor\":1,\"fMarkerStyle\":1,\"fMarkerSize\":1,\"fNpoints\":104,\"fX\":[12289.4529754395,12289.4529754395,12296.3113116966,12303.1696479537,12310.0279842107,12316.8863204678,12323.7446567249,12330.6029929819,12337.461329239,12344.3196654961,12351.1780017531,12358.0363380102,12364.8946742673,12371.7530105244,12378.6113467814,12385.4696830385,12392.3280192956,12399.1863555526,12406.0446918097,12412.9030280668,12419.7613643238,12426.6197005809,12433.478036838,12440.336373095,12447.1947093521,12454.0530456092,12460.9113818662,12467.7697181233,12474.6280543804,12481.4863906374,12488.3447268945,12495.2030631516,12502.0613994086,12508.9197356657,12515.7780719228,12522.6364081798,12529.4947444369,12536.353080694,12543.2114169511,12550.0697532081,12556.9280894652,12563.7864257223,12570.6447619793,12577.5030982364,12584.3614344935,12591.2197707505,12598.0781070076,12604.9364432647,12611.7947795217,12618.6531157788,12625.5114520359,12632.3697882929,12639.22812455,12646.0864608071,12652.9447970641,12659.8031333212,12666.6614695783,12673.5198058353,12680.3781420924,12687.2364783495,12694.0948146066,12700.9531508636,12707.8114871207,12714.6698233778,12721.5281596348,12728.3864958919,12735.244832149,12742.103168406,12748.9615046631,12755.8198409202,12762.6781771772,12769.5365134343,12776.3948496914,12783.2531859484,12790.1115222055,12796.9698584626,12803.8281947196,12810.6865309767,12817.5448672338,12824.4032034908,12831.2615397479,12838.119876005,12844.978212262,12851.8365485191,12858.6948847762,12865.5532210333,12872.4115572903,12879.2698935474,12886.1282298045,12892.9865660615,12899.8449023186,12906.7032385757,12913.5615748327,12920.4199110898,12927.2782473469,12934.1365836039,12940.994919861,12947.8532561181,12954.7115923751,12961.5699286322,12968.4282648893,12975.2866011463,12975.2866011463,12975.2866011463],\"fY\":[0.0601028767825229,0,0.0615264620376964,0.0721475420430215,0.093472237024301,0.114796932005587,0.136121626986872,0.157446321968152,0.178771016949437,0.200095711930717,0.221420406912002,0.242745101893282,0.264069796874573,0.285394491855853,0.306719186837139,0.328043881818424,0.349368576799704,0.370693271780989,0.392017966762269,0.413342661743554,0.434667356724834,0.455992051706119,0.477316746687405,0.498641441668685,0.51996613664997,0.54129083163125,0.562615526612535,0.583940221593815,0.6052649165751,0.62658961155638,0.647914306537665,0.669239001518957,0.690563696500237,0.711888391481522,0.733213086462802,0.754537781444087,0.775862476425367,0.797187171406652,0.818511866387932,0.839836561369217,0.861161256350503,0.882485951331782,0.903810646313068,0.925135341294347,0.946460036275633,0.967784731256913,0.989109426238198,0.980408492023065,0.960017755403423,0.939627018783776,0.919236282164135,0.898845545544494,0.878454808924841,0.8580640723052,0.837673335685558,0.817282599065911,0.79689186244627,0.776501125826623,0.756110389206982,0.735719652587341,0.715328915967693,0.694938179348052,0.674547442728411,0.654156706108764,0.633765969489123,0.613375232869475,0.592984496249834,0.572593759630193,0.552203023010546,0.531812286390905,0.511421549771264,0.49103081315161,0.470640076531969,0.450249339912328,0.429858603292681,0.40946786667304,0.389077130053399,0.368686393433751,0.34829565681411,0.327904920194463,0.307514183574822,0.287123446955181,0.266732710335533,0.246341973715892,0.225951237096251,0.205560500476604,0.185169763856963,0.164779027237316,0.144388290617674,0.123997553998033,0.103606817378386,0.10084283183431,0.0984866891846264,0.0961305465349445,0.0937744038852619,0.09141826123558,0.0890621185858974,0.0867059759362155,0.0843498332865329,0.081993690636851,0.0796375479871684,0.0772814053374865,0,0.0772814053374865],\"fFunctions\":{\"_typename\":\"TList\",\"name\":\"TList\",\"arr\":[],\"opt\":[]},\"fHistogram\":{\"_typename\":\"TH1F\",\"fUniqueID\":0,\"fBits\":520,\"fName\":\"likelihood_times_prior_model_approx_Norm[s]\",\"fTitle\":\"Projection of exp(-@0+-278293.176860)_approx\",\"fLineColor\":602,\"fLineStyle\":1,\"fLineWidth\":1,\"fFillColor\":0,\"fFillStyle\":1001,\"fMarkerColor\":1,\"fMarkerStyle\":1,\"fMarkerSize\":1,\"fNcells\":106,\"fXaxis\":{\"_typename\":\"TAxis\",\"fUniqueID\":0,\"fBits\":0,\"fName\":\"xaxis\",\"fTitle\":\"\",\"fNdivisions\":510,\"fAxisColor\":1,\"fLabelColor\":1,\"fLabelFont\":42,\"fLabelOffset\":0.005,\"fLabelSize\":0.035,\"fTickLength\":0.03,\"fTitleOffset\":1,\"fTitleSize\":0.035,\"fTitleColor\":1,\"fTitleFont\":42,\"fNbins\":104,\"fXmin\":12220.8696128689,\"fXmax\":13043.869963717,\"fXbins\":[],\"fFirst\":0,\"fLast\":0,\"fBits2\":0,\"fTimeDisplay\":false,\"fTimeFormat\":\"\",\"fLabels\":null,\"fModLabs\":null},\"fYaxis\":{\"_typename\":\"TAxis\",\"fUniqueID\":0,\"fBits\":0,\"fName\":\"yaxis\",\"fTitle\":\"\",\"fNdivisions\":510,\"fAxisColor\":1,\"fLabelColor\":1,\"fLabelFont\":42,\"fLabelOffset\":0.005,\"fLabelSize\":0.035,\"fTickLength\":0.03,\"fTitleOffset\":0,\"fTitleSize\":0.035,\"fTitleColor\":1,\"fTitleFont\":42,\"fNbins\":1,\"fXmin\":0,\"fXmax\":1.08802036886202,\"fXbins\":[],\"fFirst\":0,\"fLast\":0,\"fBits2\":0,\"fTimeDisplay\":false,\"fTimeFormat\":\"\",\"fLabels\":null,\"fModLabs\":null},\"fZaxis\":{\"_typename\":\"TAxis\",\"fUniqueID\":0,\"fBits\":0,\"fName\":\"zaxis\",\"fTitle\":\"\",\"fNdivisions\":510,\"fAxisColor\":1,\"fLabelColor\":1,\"fLabelFont\":42,\"fLabelOffset\":0.005,\"fLabelSize\":0.035,\"fTickLength\":0.03,\"fTitleOffset\":1,\"fTitleSize\":0.035,\"fTitleColor\":1,\"fTitleFont\":42,\"fNbins\":1,\"fXmin\":0,\"fXmax\":1,\"fXbins\":[],\"fFirst\":0,\"fLast\":0,\"fBits2\":0,\"fTimeDisplay\":false,\"fTimeFormat\":\"\",\"fLabels\":null,\"fModLabs\":null},\"fBarOffset\":0,\"fBarWidth\":1000,\"fEntries\":0,\"fTsumw\":0,\"fTsumw2\":0,\"fTsumwx\":0,\"fTsumwx2\":0,\"fMaximum\":1.08802036886202,\"fMinimum\":0,\"fNormFactor\":0,\"fContour\":[],\"fSumw2\":[],\"fOption\":\"\",\"fFunctions\":{\"_typename\":\"TList\",\"name\":\"TList\",\"arr\":[],\"opt\":[]},\"fBufferSize\":0,\"fBuffer\":[],\"fBinStatErrOpt\":0,\"fStatOverflows\":2,\"fArray\":[0,0,0,0,0,0,0,0,0,0,0,0,0,0,0,0,0,0,0,0,0,0,0,0,0,0,0,0,0,0,0,0,0,0,0,0,0,0,0,0,0,0,0,0,0,0,0,0,0,0,0,0,0,0,0,0,0,0,0,0,0,0,0,0,0,0,0,0,0,0,0,0,0,0,0,0,0,0,0,0,0,0,0,0,0,0,0,0,0,0,0,0,0,0,0,0,0,0,0,0,0,0,0,0,0,0]},\"fMinimum\":-1111,\"fMaximum\":-1111,\"_yAxisLabel\":\"Projection of exp(-@0+-278293.176860)_approx\",\"_ymin\":0,\"_ymax\":0.989109426238198,\"_normValue\":0},{\"_typename\":\"RooCurve\",\"fUniqueID\":0,\"fBits\":525320,\"fName\":\"likelihood_times_prior_model_approx_Norm[s]\",\"fTitle\":\"Projection of exp(-@0+-278293.176860)_approx\",\"fLineColor\":600,\"fLineStyle\":1,\"fLineWidth\":3,\"fFillColor\":0,\"fFillStyle\":1000,\"fMarkerColor\":1,\"fMarkerStyle\":1,\"fMarkerSize\":1,\"fNpoints\":106,\"fX\":[-150.15,-150,0,150,300,450,600,750,900,1050,1200,1350,1500,1650,1800,1950,2100,2250,2400,2550,2700,2850,3000,3150,3300,3450,3600,3750,3900,4050,4200,4350,4500,4650,4800,4950,5100,5250,5400,5550,5700,5850,6000,6150,6300,6450,6600,6750,6900,7050,7200,7350,7500,7650,7800,7950,8100,8250,8400,8550,8700,8850,9000,9150,9300,9450,9600,9750,9900,10050,10200,10350,10500,10650,10800,10950,11100,11250,11400,11550,11700,11850,12000,12150,12300,12450,12600,12750,12900,13050,13200,13350,13500,13650,13800,13950,14100,14250,14400,14550,14700,14850,15000,15000,15150,15150.15],\"fY\":[0,0,0,0,0,0,0,0,0,0,0,0,0,0,0,0,0,0,0,0,0,0,0,0,0,0,0,0,0,0,0,0,0,0,0,0,0,0,0,0,0,0,0,0,0,0,0,0,0,0,0,0,0,0,0,8.79052758009557e-303,0,4.50323347884785e-260,0,3.17054427409455e-221,0,4.60711993315412e-186,0,2.01796791960756e-154,0,3.79400294266028e-126,0,4.26055030352613e-101,0,3.89354070544944e-79,0,3.86966795559327e-60,5.4377537233321e-58,5.4915650288843e-44,9.56619751645742e-44,1.43741271443925e-30,2.87408323135522e-30,8.83048841889236e-20,1.76609722341271e-19,1.59790585790398e-11,3.19581168935675e-11,1.05529463429733e-5,2.11058607275542e-5,0.0311566145718894,0.0622921232830595,0.528688655517235,0.995085187751398,0.549115439651869,0.10314569155234,0.0516140395298673,8.23875073944206e-5,4.11940521599556e-5,5.96925491460944e-10,2.98462768631747e-10,4.58025476875164e-17,2.29012738653194e-17,4.31224479279453e-26,2.15612239642593e-26,5.73039530736171e-37,2.86519765368147e-37,1.22813631208912e-49,6.14068156044558e-50,4.8203397514794e-64,4.8203397514794e-64,4.8203397514794e-64,0],\"fFunctions\":{\"_typename\":\"TList\",\"name\":\"TList\",\"arr\":[],\"opt\":[]},\"fHistogram\":{\"_typename\":\"TH1F\",\"fUniqueID\":0,\"fBits\":520,\"fName\":\"likelihood_times_prior_model_approx_Norm[s]\",\"fTitle\":\"Projection of exp(-@0+-278293.176860)_approx\",\"fLineColor\":602,\"fLineStyle\":1,\"fLineWidth\":1,\"fFillColor\":0,\"fFillStyle\":1001,\"fMarkerColor\":1,\"fMarkerStyle\":1,\"fMarkerSize\":1,\"fNcells\":108,\"fXaxis\":{\"_typename\":\"TAxis\",\"fUniqueID\":0,\"fBits\":0,\"fName\":\"xaxis\",\"fTitle\":\"\",\"fNdivisions\":510,\"fAxisColor\":1,\"fLabelColor\":1,\"fLabelFont\":42,\"fLabelOffset\":0.005,\"fLabelSize\":0.035,\"fTickLength\":0.03,\"fTitleOffset\":1,\"fTitleSize\":0.035,\"fTitleColor\":1,\"fTitleFont\":42,\"fNbins\":106,\"fXmin\":-1680.18,\"fXmax\":16680.18,\"fXbins\":[],\"fFirst\":0,\"fLast\":0,\"fBits2\":0,\"fTimeDisplay\":false,\"fTimeFormat\":\"\",\"fLabels\":null,\"fModLabs\":null},\"fYaxis\":{\"_typename\":\"TAxis\",\"fUniqueID\":0,\"fBits\":0,\"fName\":\"yaxis\",\"fTitle\":\"\",\"fNdivisions\":510,\"fAxisColor\":1,\"fLabelColor\":1,\"fLabelFont\":42,\"fLabelOffset\":0.005,\"fLabelSize\":0.035,\"fTickLength\":0.03,\"fTitleOffset\":0,\"fTitleSize\":0.035,\"fTitleColor\":1,\"fTitleFont\":42,\"fNbins\":1,\"fXmin\":0,\"fXmax\":1.09459370652654,\"fXbins\":[],\"fFirst\":0,\"fLast\":0,\"fBits2\":0,\"fTimeDisplay\":false,\"fTimeFormat\":\"\",\"fLabels\":null,\"fModLabs\":null},\"fZaxis\":{\"_typename\":\"TAxis\",\"fUniqueID\":0,\"fBits\":0,\"fName\":\"zaxis\",\"fTitle\":\"\",\"fNdivisions\":510,\"fAxisColor\":1,\"fLabelColor\":1,\"fLabelFont\":42,\"fLabelOffset\":0.005,\"fLabelSize\":0.035,\"fTickLength\":0.03,\"fTitleOffset\":1,\"fTitleSize\":0.035,\"fTitleColor\":1,\"fTitleFont\":42,\"fNbins\":1,\"fXmin\":0,\"fXmax\":1,\"fXbins\":[],\"fFirst\":0,\"fLast\":0,\"fBits2\":0,\"fTimeDisplay\":false,\"fTimeFormat\":\"\",\"fLabels\":null,\"fModLabs\":null},\"fBarOffset\":0,\"fBarWidth\":1000,\"fEntries\":0,\"fTsumw\":0,\"fTsumw2\":0,\"fTsumwx\":0,\"fTsumwx2\":0,\"fMaximum\":1.09459370652654,\"fMinimum\":0,\"fNormFactor\":0,\"fContour\":[],\"fSumw2\":[],\"fOption\":\"\",\"fFunctions\":{\"_typename\":\"TList\",\"name\":\"TList\",\"arr\":[],\"opt\":[]},\"fBufferSize\":0,\"fBuffer\":[],\"fBinStatErrOpt\":0,\"fStatOverflows\":2,\"fArray\":[0,0,0,0,0,0,0,0,0,0,0,0,0,0,0,0,0,0,0,0,0,0,0,0,0,0,0,0,0,0,0,0,0,0,0,0,0,0,0,0,0,0,0,0,0,0,0,0,0,0,0,0,0,0,0,0,0,0,0,0,0,0,0,0,0,0,0,0,0,0,0,0,0,0,0,0,0,0,0,0,0,0,0,0,0,0,0,0,0,0,0,0,0,0,0,0,0,0,0,0,0,0,0,0,0,0,0,0]},\"fMinimum\":-1111,\"fMaximum\":-1111,\"_yAxisLabel\":\"Projection of exp(-@0+-278293.176860)_approx\",\"_ymin\":0,\"_ymax\":0.995085187751398,\"_normValue\":0},{\"$ref\":3},{\"_typename\":\"TPaveText\",\"fUniqueID\":0,\"fBits\":9,\"fLineColor\":1,\"fLineStyle\":1,\"fLineWidth\":1,\"fFillColor\":0,\"fFillStyle\":0,\"fX1\":1533.94387661607,\"fY1\":1.08922300188717,\"fX2\":13466.0561233839,\"fY2\":1.16891414734797,\"fX1NDC\":0.181810344827586,\"fY1NDC\":0.933983055615829,\"fX2NDC\":0.818189655172414,\"fY2NDC\":0.995000004768372,\"fBorderSize\":0,\"fInit\":1,\"fShadowColor\":1,\"fCornerRadius\":0,\"fOption\":\"blNDC\",\"fName\":\"title\",\"fTextAngle\":0,\"fTextSize\":0,\"fTextAlign\":22,\"fTextColor\":1,\"fTextFont\":42,\"fLabel\":\"\",\"fLongest\":38,\"fMargin\":0.05,\"fLines\":{\"_typename\":\"TList\",\"name\":\"TList\",\"arr\":[{\"_typename\":\"TLatex\",\"fUniqueID\":0,\"fBits\":0,\"fName\":\"\",\"fTitle\":\"Posterior probability of parameter \\\"s\\\"\",\"fTextAngle\":0,\"fTextSize\":0,\"fTextAlign\":0,\"fTextColor\":0,\"fTextFont\":0,\"fX\":0,\"fY\":0,\"fLineColor\":1,\"fLineStyle\":1,\"fLineWidth\":2,\"fLimitFactorSize\":3,\"fOriginSize\":0.0518644079566002}],\"opt\":[\"\"]}},{\"_typename\":\"TStyle\",\"fUniqueID\":0,\"fBits\":0,\"fName\":\"Modern\",\"fTitle\":\"Modern Style\",\"fLineColor\":1,\"fLineStyle\":1,\"fLineWidth\":1,\"fFillColor\":19,\"fFillStyle\":1001,\"fMarkerColor\":1,\"fMarkerStyle\":1,\"fMarkerSize\":1,\"fTextAngle\":0,\"fTextSize\":0.05,\"fTextAlign\":11,\"fTextColor\":1,\"fTextFont\":62,\"fXaxis\":{\"_typename\":\"TAttAxis\",\"fNdivisions\":510,\"fAxisColor\":1,\"fLabelColor\":1,\"fLabelFont\":42,\"fLabelOffset\":0.005,\"fLabelSize\":0.035,\"fTickLength\":0.03,\"fTitleOffset\":1,\"fTitleSize\":0.035,\"fTitleColor\":1,\"fTitleFont\":42},\"fYaxis\":{\"_typename\":\"TAttAxis\",\"fNdivisions\":510,\"fAxisColor\":1,\"fLabelColor\":1,\"fLabelFont\":42,\"fLabelOffset\":0.005,\"fLabelSize\":0.035,\"fTickLength\":0.03,\"fTitleOffset\":0,\"fTitleSize\":0.035,\"fTitleColor\":1,\"fTitleFont\":42},\"fZaxis\":{\"_typename\":\"TAttAxis\",\"fNdivisions\":510,\"fAxisColor\":1,\"fLabelColor\":1,\"fLabelFont\":42,\"fLabelOffset\":0.005,\"fLabelSize\":0.035,\"fTickLength\":0.03,\"fTitleOffset\":1,\"fTitleSize\":0.035,\"fTitleColor\":1,\"fTitleFont\":42},\"fBarWidth\":1,\"fBarOffset\":0,\"fColorModelPS\":0,\"fDrawBorder\":0,\"fOptLogx\":0,\"fOptLogy\":0,\"fOptLogz\":0,\"fOptDate\":0,\"fOptStat\":1111,\"fOptTitle\":1,\"fOptFile\":0,\"fOptFit\":0,\"fShowEventStatus\":0,\"fShowEditor\":0,\"fShowToolBar\":0,\"fNumberContours\":20,\"fAttDate\":{\"_typename\":\"TAttText\",\"fTextAngle\":0,\"fTextSize\":0.025,\"fTextAlign\":11,\"fTextColor\":1,\"fTextFont\":62},\"fDateX\":0.01,\"fDateY\":0.01,\"fEndErrorSize\":2,\"fErrorX\":0.5,\"fFuncColor\":2,\"fFuncStyle\":1,\"fFuncWidth\":2,\"fGridColor\":0,\"fGridStyle\":3,\"fGridWidth\":1,\"fLegendBorderSize\":1,\"fLegendFillColor\":0,\"fLegendFont\":42,\"fLegendTextSize\":0,\"fHatchesLineWidth\":1,\"fHatchesSpacing\":1,\"fFrameFillColor\":0,\"fFrameLineColor\":1,\"fFrameFillStyle\":1001,\"fFrameLineStyle\":1,\"fFrameLineWidth\":1,\"fFrameBorderSize\":1,\"fFrameBorderMode\":0,\"fHistFillColor\":0,\"fHistLineColor\":602,\"fHistFillStyle\":1001,\"fHistLineStyle\":1,\"fHistLineWidth\":1,\"fHistMinimumZero\":false,\"fHistTopMargin\":0.05,\"fCanvasPreferGL\":false,\"fCanvasColor\":0,\"fCanvasBorderSize\":2,\"fCanvasBorderMode\":0,\"fCanvasDefH\":500,\"fCanvasDefW\":700,\"fCanvasDefX\":10,\"fCanvasDefY\":10,\"fPadColor\":0,\"fPadBorderSize\":2,\"fPadBorderMode\":0,\"fPadBottomMargin\":0.1,\"fPadTopMargin\":0.1,\"fPadLeftMargin\":0.1,\"fPadRightMargin\":0.1,\"fPadGridX\":false,\"fPadGridY\":false,\"fPadTickX\":0,\"fPadTickY\":0,\"fPaperSizeX\":20,\"fPaperSizeY\":26,\"fScreenFactor\":1,\"fStatColor\":0,\"fStatTextColor\":1,\"fStatBorderSize\":1,\"fStatFont\":42,\"fStatFontSize\":0,\"fStatStyle\":1001,\"fStatFormat\":\"6.4g\",\"fStatX\":0.98,\"fStatY\":0.935,\"fStatW\":0.2,\"fStatH\":0.16,\"fStripDecimals\":true,\"fTitleAlign\":23,\"fTitleColor\":0,\"fTitleTextColor\":1,\"fTitleBorderSize\":0,\"fTitleFont\":42,\"fTitleFontSize\":0.05,\"fTitleStyle\":0,\"fTitleX\":0.5,\"fTitleY\":0.995,\"fTitleW\":0,\"fTitleH\":0,\"fLegoInnerR\":0.5,\"fLineStyle\":[\"\",\"  \",\" 12 12\",\" 4 8\",\" 12 16 4 16\",\" 20 12 4 12\",\" 20 12 4 12 4 12 4 12\",\" 20 20\",\" 20 12 4 12 4 12\",\" 80 20\",\" 80 40 4 40\",\"  \",\"  \",\"  \",\"  \",\"  \",\"  \",\"  \",\"  \",\"  \",\"  \",\"  \",\"  \",\"  \",\"  \",\"  \",\"  \",\"  \",\"  \",\"  \"],\"fHeaderPS\":\"\",\"fTitlePS\":\"\",\"fFitFormat\":\"5.4g\",\"fPaintTextFormat\":\"g\",\"fLineScalePS\":3,\"fJoinLinePS\":0,\"fCapLinePS\":0,\"fTimeOffset\":788918400,\"fImageScaling\":1}],\"opt\":[\"\",\"FUNC\",\"f\",\"l\",\"AXISSAME\",\"blNDC\",\"\"]},\"fExecs\":null,\"fName\":\"c1_n2\",\"fTitle\":\"c1_n2\",\"fNumPaletteColor\":0,\"fNextPaletteColor\":0,\"fDISPLAY\":\"$DISPLAY\",\"fDoubleBuffer\":0,\"fRetained\":true,\"fXsizeUser\":0,\"fYsizeUser\":0,\"fXsizeReal\":20,\"fYsizeReal\":14.28571,\"fWindowTopX\":0,\"fWindowTopY\":0,\"fWindowWidth\":0,\"fWindowHeight\":0,\"fCw\":696,\"fCh\":472,\"fCatt\":{\"_typename\":\"TAttCanvas\",\"fXBetween\":2,\"fYBetween\":2,\"fTitleFromTop\":1.2,\"fXdate\":0.2,\"fYdate\":0.3,\"fAdate\":1},\"kMoveOpaque\":true,\"kResizeOpaque\":true,\"fHighLightColor\":2,\"fBatch\":true,\"kShowEventStatus\":false,\"kAutoExec\":true,\"kMenuBar\":true});\n",
       "       Core.key_handling = false;\n",
       "       Core.draw(\"root_plot_1611078422109\", obj, \"\");\n",
       "     }\n",
       " );\n",
       "</script>\n"
      ],
      "text/plain": [
       "<IPython.core.display.HTML object>"
      ]
     },
     "metadata": {},
     "output_type": "display_data"
    }
   ],
   "source": [
    "c2 = ROOT.TCanvas()\n",
    "plot = bayesianCalc.GetPosteriorPlot()\n",
    "plot.Draw()\n",
    "c2.Draw()"
   ]
  },
  {
   "cell_type": "code",
   "execution_count": 18,
   "metadata": {},
   "outputs": [],
   "source": [
    "#CALCULAR USANDO O MÉTODO FREQUENTISTA"
   ]
  },
  {
   "cell_type": "code",
   "execution_count": 19,
   "metadata": {},
   "outputs": [
    {
     "name": "stdout",
     "output_type": "stream",
     "text": [
      "\n",
      "RooWorkspace()  contents\n",
      "\n",
      "variables\n",
      "---------\n",
      "(a0,a1,b,mass,mean,s,sigma)\n",
      "\n",
      "p.d.f.s\n",
      "-------\n",
      "RooChebychev::bkg[ x=mass coefList=(a0,a1) ] = 1.08054\n",
      "RooAddPdf::model[ s * sig + b * bkg ] = 1.04314\n",
      "RooGaussian::sig[ x=mass mean=mean sigma=sigma ] = 0.999644\n",
      "\n",
      "datasets\n",
      "--------\n",
      "RooDataSet::ds(mass)\n",
      "\n",
      "named sets\n",
      "----------\n",
      "S+B Model_Observables:(mass)\n",
      "S+B Model_POI:(s)\n",
      "\n"
     ]
    }
   ],
   "source": [
    "ws.Print()"
   ]
  },
  {
   "cell_type": "code",
   "execution_count": 20,
   "metadata": {},
   "outputs": [
    {
     "data": {
      "text/plain": [
       "'S+B Model'"
      ]
     },
     "execution_count": 20,
     "metadata": {},
     "output_type": "execute_result"
    }
   ],
   "source": [
    "ws.var(\"mean\").setConstant(1)\n",
    "ws.var(\"sigma\").setConstant(1)\n",
    "ws.var(\"a0\").setConstant(1)\n",
    "ws.var(\"a1\").setConstant(1)\n",
    "ws.var(\"s\").setConstant(1)\n",
    "ws.var(\"b\").setConstant(1)\n",
    "ws.var(\"s\").setRange(0.,20000)\n",
    "sbModel.GetName()"
   ]
  },
  {
   "cell_type": "code",
   "execution_count": 21,
   "metadata": {},
   "outputs": [],
   "source": [
    "poi = ROOT.RooArgSet(ws.var(\"s\"))\n",
    "sbModel.SetParametersOfInterest(poi)\n",
    "bModel = sbModel.Clone()\n",
    "bModel.SetName(\"B Model\")\n",
    "ws.var(\"s\").setVal(0)\n",
    "bModel.SetParametersOfInterest(poi)"
   ]
  },
  {
   "cell_type": "code",
   "execution_count": 22,
   "metadata": {},
   "outputs": [
    {
     "name": "stdout",
     "output_type": "stream",
     "text": [
      "[#1] INFO:InputArguments -- HypoTestInverter ---- Input models: \n",
      "\t\t using as S+B (null) model     : S+B Model\n",
      "\t\t using as B (alternate) model  : B Model\n",
      "\n",
      "[#0] WARNING:InputArguments -- HypoTestInverter - using a B model  with POI s not equal to zero  user must check input model configurations \n"
     ]
    }
   ],
   "source": [
    "fc = ROOT.RooStats.FrequentistCalculator(ds, bModel, sbModel)\n",
    "fc.SetToys(2500,1000)\n",
    "calc = ROOT.RooStats.HypoTestInverter(fc)\n",
    "calc.SetConfidenceLevel(0.95)\n",
    "calc.UseCLs(1);\n",
    "calc.SetVerbose(0);\n",
    "\n",
    "profll = ROOT.RooStats.ProfileLikelihoodTestStat(sbModel.GetPdf())\n",
    "toymcs = ROOT.RooStats.ToyMCSampler(fc.GetTestStatSampler())\n",
    "\n",
    "toymcs.SetTestStatistic(profll)\n",
    "profll.SetOneSidedDiscovery(True)\n",
    "\n",
    "profll.SetOneSided(1);\n",
    "\n"
   ]
  },
  {
   "cell_type": "code",
   "execution_count": 23,
   "metadata": {},
   "outputs": [
    {
     "name": "stdout",
     "output_type": "stream",
     "text": [
      "Doing a fixed scan  in interval :  0.0  ,  20000.0\n"
     ]
    }
   ],
   "source": [
    "npoints = 8\n",
    "\n",
    "poimin = ws.var(\"s\").getMin()\n",
    "poimax = ws.var(\"s\").getMax()\n",
    "\n",
    "print( \"Doing a fixed scan  in interval : \", poimin ,\" , \" ,poimax)\n",
    "calc.SetFixedScan(npoints,poimin,poimax)\n",
    "\n"
   ]
  },
  {
   "cell_type": "code",
   "execution_count": null,
   "metadata": {},
   "outputs": [],
   "source": [
    "result = calc.GetInterval(); \n",
    "upperLimit = result->UpperLimit();\n",
    "print(\"Limite superior: \", upperlimit)"
   ]
  },
  {
   "cell_type": "code",
   "execution_count": null,
   "metadata": {},
   "outputs": [],
   "source": []
  },
  {
   "cell_type": "code",
   "execution_count": null,
   "metadata": {},
   "outputs": [],
   "source": []
  }
 ],
 "metadata": {
  "kernelspec": {
   "display_name": "Python 3",
   "language": "python",
   "name": "python3"
  },
  "language_info": {
   "codemirror_mode": {
    "name": "ipython",
    "version": 3
   },
   "file_extension": ".py",
   "mimetype": "text/x-python",
   "name": "python",
   "nbconvert_exporter": "python",
   "pygments_lexer": "ipython3",
   "version": "3.8.5"
  }
 },
 "nbformat": 4,
 "nbformat_minor": 4
}
